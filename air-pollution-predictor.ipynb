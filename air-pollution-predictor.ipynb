{
  "nbformat": 4,
  "nbformat_minor": 0,
  "metadata": {
    "colab": {
      "name": "Submission_2.ipynb",
      "provenance": [],
      "collapsed_sections": []
    },
    "kernelspec": {
      "name": "python3",
      "display_name": "Python 3"
    },
    "language_info": {
      "name": "python"
    },
    "accelerator": "GPU"
  },
  "cells": [
    {
      "cell_type": "code",
      "metadata": {
        "colab": {
          "base_uri": "https://localhost:8080/"
        },
        "id": "ZKyLdZKpZLC6",
        "outputId": "8029d26b-12af-4358-c423-452ccb80f2d4"
      },
      "source": [
        "# Mengunduh dataset yang tersimpan di dalam Google Drive\n",
        "# Dataset diunduh dari Kaggle (https://www.kaggle.com/bappekim/air-pollution-in-seoul)\n",
        "!gdown --id 1Wkq4nlpXoO0cSugGm18kD7ch-HCFpLDR"
      ],
      "execution_count": 1,
      "outputs": [
        {
          "output_type": "stream",
          "name": "stdout",
          "text": [
            "/usr/local/lib/python3.7/dist-packages/gdown/cli.py:131: FutureWarning: Option `--id` was deprecated in version 4.3.1 and will be removed in 5.0. You don't need to pass it anymore to use a file ID.\n",
            "  category=FutureWarning,\n",
            "Downloading...\n",
            "From: https://drive.google.com/uc?id=1Wkq4nlpXoO0cSugGm18kD7ch-HCFpLDR\n",
            "To: /content/Dataset Submission 2.zip\n",
            "100% 6.97M/6.97M [00:00<00:00, 144MB/s]\n"
          ]
        }
      ]
    },
    {
      "cell_type": "code",
      "metadata": {
        "id": "J0Xr1Dp3ZcTT"
      },
      "source": [
        "# Mengekstrak file .zip\n",
        "import zipfile\n",
        "import os\n",
        "local_zip = '/content/Dataset Submission 2.zip'\n",
        "zip_ref = zipfile.ZipFile(local_zip, 'r')\n",
        "zip_ref.extractall('/content/')\n",
        "zip_ref.close()"
      ],
      "execution_count": 2,
      "outputs": []
    },
    {
      "cell_type": "code",
      "metadata": {
        "id": "frZgl8adZs8O"
      },
      "source": [
        "from tensorflow.keras.layers import Dense, LSTM\n",
        "from sklearn.model_selection import train_test_split\n",
        "import numpy as np\n",
        "import pandas as pd\n",
        "import matplotlib.pyplot as plt\n",
        "import tensorflow as tf"
      ],
      "execution_count": 3,
      "outputs": []
    },
    {
      "cell_type": "code",
      "metadata": {
        "colab": {
          "base_uri": "https://localhost:8080/",
          "height": 206
        },
        "id": "C2W18SPjZxHO",
        "outputId": "b41ed098-8ea7-4423-b567-dcb4a83237f8"
      },
      "source": [
        "original_dataset = pd.read_csv('/content/Measurement_summary.csv')\n",
        "original_dataset.head()"
      ],
      "execution_count": 4,
      "outputs": [
        {
          "output_type": "execute_result",
          "data": {
            "text/plain": [
              "   Measurement date  Station code  \\\n",
              "0  2017-01-01 00:00           101   \n",
              "1  2017-01-01 01:00           101   \n",
              "2  2017-01-01 02:00           101   \n",
              "3  2017-01-01 03:00           101   \n",
              "4  2017-01-01 04:00           101   \n",
              "\n",
              "                                             Address   Latitude   Longitude  \\\n",
              "0  19, Jong-ro 35ga-gil, Jongno-gu, Seoul, Republ...  37.572016  127.005008   \n",
              "1  19, Jong-ro 35ga-gil, Jongno-gu, Seoul, Republ...  37.572016  127.005008   \n",
              "2  19, Jong-ro 35ga-gil, Jongno-gu, Seoul, Republ...  37.572016  127.005008   \n",
              "3  19, Jong-ro 35ga-gil, Jongno-gu, Seoul, Republ...  37.572016  127.005008   \n",
              "4  19, Jong-ro 35ga-gil, Jongno-gu, Seoul, Republ...  37.572016  127.005008   \n",
              "\n",
              "     SO2    NO2     O3   CO  PM10  PM2.5  \n",
              "0  0.004  0.059  0.002  1.2  73.0   57.0  \n",
              "1  0.004  0.058  0.002  1.2  71.0   59.0  \n",
              "2  0.004  0.056  0.002  1.2  70.0   59.0  \n",
              "3  0.004  0.056  0.002  1.2  70.0   58.0  \n",
              "4  0.003  0.051  0.002  1.2  69.0   61.0  "
            ],
            "text/html": [
              "\n",
              "  <div id=\"df-80299cca-d7c2-4249-b115-a80982480c6a\">\n",
              "    <div class=\"colab-df-container\">\n",
              "      <div>\n",
              "<style scoped>\n",
              "    .dataframe tbody tr th:only-of-type {\n",
              "        vertical-align: middle;\n",
              "    }\n",
              "\n",
              "    .dataframe tbody tr th {\n",
              "        vertical-align: top;\n",
              "    }\n",
              "\n",
              "    .dataframe thead th {\n",
              "        text-align: right;\n",
              "    }\n",
              "</style>\n",
              "<table border=\"1\" class=\"dataframe\">\n",
              "  <thead>\n",
              "    <tr style=\"text-align: right;\">\n",
              "      <th></th>\n",
              "      <th>Measurement date</th>\n",
              "      <th>Station code</th>\n",
              "      <th>Address</th>\n",
              "      <th>Latitude</th>\n",
              "      <th>Longitude</th>\n",
              "      <th>SO2</th>\n",
              "      <th>NO2</th>\n",
              "      <th>O3</th>\n",
              "      <th>CO</th>\n",
              "      <th>PM10</th>\n",
              "      <th>PM2.5</th>\n",
              "    </tr>\n",
              "  </thead>\n",
              "  <tbody>\n",
              "    <tr>\n",
              "      <th>0</th>\n",
              "      <td>2017-01-01 00:00</td>\n",
              "      <td>101</td>\n",
              "      <td>19, Jong-ro 35ga-gil, Jongno-gu, Seoul, Republ...</td>\n",
              "      <td>37.572016</td>\n",
              "      <td>127.005008</td>\n",
              "      <td>0.004</td>\n",
              "      <td>0.059</td>\n",
              "      <td>0.002</td>\n",
              "      <td>1.2</td>\n",
              "      <td>73.0</td>\n",
              "      <td>57.0</td>\n",
              "    </tr>\n",
              "    <tr>\n",
              "      <th>1</th>\n",
              "      <td>2017-01-01 01:00</td>\n",
              "      <td>101</td>\n",
              "      <td>19, Jong-ro 35ga-gil, Jongno-gu, Seoul, Republ...</td>\n",
              "      <td>37.572016</td>\n",
              "      <td>127.005008</td>\n",
              "      <td>0.004</td>\n",
              "      <td>0.058</td>\n",
              "      <td>0.002</td>\n",
              "      <td>1.2</td>\n",
              "      <td>71.0</td>\n",
              "      <td>59.0</td>\n",
              "    </tr>\n",
              "    <tr>\n",
              "      <th>2</th>\n",
              "      <td>2017-01-01 02:00</td>\n",
              "      <td>101</td>\n",
              "      <td>19, Jong-ro 35ga-gil, Jongno-gu, Seoul, Republ...</td>\n",
              "      <td>37.572016</td>\n",
              "      <td>127.005008</td>\n",
              "      <td>0.004</td>\n",
              "      <td>0.056</td>\n",
              "      <td>0.002</td>\n",
              "      <td>1.2</td>\n",
              "      <td>70.0</td>\n",
              "      <td>59.0</td>\n",
              "    </tr>\n",
              "    <tr>\n",
              "      <th>3</th>\n",
              "      <td>2017-01-01 03:00</td>\n",
              "      <td>101</td>\n",
              "      <td>19, Jong-ro 35ga-gil, Jongno-gu, Seoul, Republ...</td>\n",
              "      <td>37.572016</td>\n",
              "      <td>127.005008</td>\n",
              "      <td>0.004</td>\n",
              "      <td>0.056</td>\n",
              "      <td>0.002</td>\n",
              "      <td>1.2</td>\n",
              "      <td>70.0</td>\n",
              "      <td>58.0</td>\n",
              "    </tr>\n",
              "    <tr>\n",
              "      <th>4</th>\n",
              "      <td>2017-01-01 04:00</td>\n",
              "      <td>101</td>\n",
              "      <td>19, Jong-ro 35ga-gil, Jongno-gu, Seoul, Republ...</td>\n",
              "      <td>37.572016</td>\n",
              "      <td>127.005008</td>\n",
              "      <td>0.003</td>\n",
              "      <td>0.051</td>\n",
              "      <td>0.002</td>\n",
              "      <td>1.2</td>\n",
              "      <td>69.0</td>\n",
              "      <td>61.0</td>\n",
              "    </tr>\n",
              "  </tbody>\n",
              "</table>\n",
              "</div>\n",
              "      <button class=\"colab-df-convert\" onclick=\"convertToInteractive('df-80299cca-d7c2-4249-b115-a80982480c6a')\"\n",
              "              title=\"Convert this dataframe to an interactive table.\"\n",
              "              style=\"display:none;\">\n",
              "        \n",
              "  <svg xmlns=\"http://www.w3.org/2000/svg\" height=\"24px\"viewBox=\"0 0 24 24\"\n",
              "       width=\"24px\">\n",
              "    <path d=\"M0 0h24v24H0V0z\" fill=\"none\"/>\n",
              "    <path d=\"M18.56 5.44l.94 2.06.94-2.06 2.06-.94-2.06-.94-.94-2.06-.94 2.06-2.06.94zm-11 1L8.5 8.5l.94-2.06 2.06-.94-2.06-.94L8.5 2.5l-.94 2.06-2.06.94zm10 10l.94 2.06.94-2.06 2.06-.94-2.06-.94-.94-2.06-.94 2.06-2.06.94z\"/><path d=\"M17.41 7.96l-1.37-1.37c-.4-.4-.92-.59-1.43-.59-.52 0-1.04.2-1.43.59L10.3 9.45l-7.72 7.72c-.78.78-.78 2.05 0 2.83L4 21.41c.39.39.9.59 1.41.59.51 0 1.02-.2 1.41-.59l7.78-7.78 2.81-2.81c.8-.78.8-2.07 0-2.86zM5.41 20L4 18.59l7.72-7.72 1.47 1.35L5.41 20z\"/>\n",
              "  </svg>\n",
              "      </button>\n",
              "      \n",
              "  <style>\n",
              "    .colab-df-container {\n",
              "      display:flex;\n",
              "      flex-wrap:wrap;\n",
              "      gap: 12px;\n",
              "    }\n",
              "\n",
              "    .colab-df-convert {\n",
              "      background-color: #E8F0FE;\n",
              "      border: none;\n",
              "      border-radius: 50%;\n",
              "      cursor: pointer;\n",
              "      display: none;\n",
              "      fill: #1967D2;\n",
              "      height: 32px;\n",
              "      padding: 0 0 0 0;\n",
              "      width: 32px;\n",
              "    }\n",
              "\n",
              "    .colab-df-convert:hover {\n",
              "      background-color: #E2EBFA;\n",
              "      box-shadow: 0px 1px 2px rgba(60, 64, 67, 0.3), 0px 1px 3px 1px rgba(60, 64, 67, 0.15);\n",
              "      fill: #174EA6;\n",
              "    }\n",
              "\n",
              "    [theme=dark] .colab-df-convert {\n",
              "      background-color: #3B4455;\n",
              "      fill: #D2E3FC;\n",
              "    }\n",
              "\n",
              "    [theme=dark] .colab-df-convert:hover {\n",
              "      background-color: #434B5C;\n",
              "      box-shadow: 0px 1px 3px 1px rgba(0, 0, 0, 0.15);\n",
              "      filter: drop-shadow(0px 1px 2px rgba(0, 0, 0, 0.3));\n",
              "      fill: #FFFFFF;\n",
              "    }\n",
              "  </style>\n",
              "\n",
              "      <script>\n",
              "        const buttonEl =\n",
              "          document.querySelector('#df-80299cca-d7c2-4249-b115-a80982480c6a button.colab-df-convert');\n",
              "        buttonEl.style.display =\n",
              "          google.colab.kernel.accessAllowed ? 'block' : 'none';\n",
              "\n",
              "        async function convertToInteractive(key) {\n",
              "          const element = document.querySelector('#df-80299cca-d7c2-4249-b115-a80982480c6a');\n",
              "          const dataTable =\n",
              "            await google.colab.kernel.invokeFunction('convertToInteractive',\n",
              "                                                     [key], {});\n",
              "          if (!dataTable) return;\n",
              "\n",
              "          const docLinkHtml = 'Like what you see? Visit the ' +\n",
              "            '<a target=\"_blank\" href=https://colab.research.google.com/notebooks/data_table.ipynb>data table notebook</a>'\n",
              "            + ' to learn more about interactive tables.';\n",
              "          element.innerHTML = '';\n",
              "          dataTable['output_type'] = 'display_data';\n",
              "          await google.colab.output.renderOutput(dataTable, element);\n",
              "          const docLink = document.createElement('div');\n",
              "          docLink.innerHTML = docLinkHtml;\n",
              "          element.appendChild(docLink);\n",
              "        }\n",
              "      </script>\n",
              "    </div>\n",
              "  </div>\n",
              "  "
            ]
          },
          "metadata": {},
          "execution_count": 4
        }
      ]
    },
    {
      "cell_type": "code",
      "metadata": {
        "colab": {
          "base_uri": "https://localhost:8080/"
        },
        "id": "VBLOmFDVZ9pG",
        "outputId": "0f82e126-6638-43d8-bb6b-f8d5f83f7f05"
      },
      "source": [
        "locations = original_dataset['Address']\n",
        "print(\"Number of unique locations: \", len(locations.unique()))\n",
        "print(locations.value_counts())"
      ],
      "execution_count": 5,
      "outputs": [
        {
          "output_type": "stream",
          "name": "stdout",
          "text": [
            "Number of unique locations:  25\n",
            "71, Gangseo-ro 45da-gil, Gangseo-gu, Seoul, Republic of Korea        25906\n",
            "369, Yongmasan-ro, Jungnang-gu, Seoul, Republic of Korea             25906\n",
            "19, Jong-ro 35ga-gil, Jongno-gu, Seoul, Republic of Korea            25905\n",
            "17, Sanggye-ro 23-gil, Nowon-gu, Seoul, Republic of Korea            25905\n",
            "236, Baekjegobun-ro, Songpa-gu, Seoul, Republic of Korea             25905\n",
            "16, Sinbanpo-ro 15-gil, Seocho-gu, Seoul, Republic of Korea          25905\n",
            "10, Poeun-ro 6-gil, Mapo-gu, Seoul, Republic of Korea                25905\n",
            "14, Sillimdong-gil, Gwanak-gu, Seoul, Republic of Korea              25905\n",
            "70, Samyang-ro 2-gil, Seongbuk-gu, Seoul, Republic of Korea          25905\n",
            "15, Deoksugung-gil, Jung-gu, Seoul, Republic of Korea                25905\n",
            "426, Hakdong-ro, Gangnam-gu, Seoul, Republic of Korea                25904\n",
            "20, Geumha-ro 21-gil, Geumcheon-gu, Seoul, Republic of Korea         25904\n",
            "56, Jungang-ro 52-gil, Yangcheon-gu, Seoul, Republic of Korea        25904\n",
            "59, Gucheonmyeon-ro 42-gil, Gangdong-gu, Seoul, Republic of Korea    25904\n",
            "43, Cheonho-daero 13-gil, Dongdaemun-gu, Seoul, Republic of Korea    25904\n",
            "136, Hannam-daero, Yongsan-gu, Seoul, Republic of Korea              25904\n",
            "215, Jinheung-ro, Eunpyeong-gu, Seoul, Republic of Korea             25896\n",
            "571, Gwangnaru-ro, Gwangjin-gu, Seoul, Republic of Korea             25894\n",
            "11, Yangsan-ro 23-gil, Yeongdeungpo-gu, Seoul, Republic of Korea     25894\n",
            "6, Sadang-ro 16a-gil, Dongjak-gu, Seoul, Republic of Korea           25894\n",
            "49, Samyang-ro 139-gil, Gangbuk-gu, Seoul, Republic of Korea         25892\n",
            "45, Gamasan-ro 27-gil, Guro-gu, Seoul, Republic of Korea             25892\n",
            "34, Sirubong-ro 2-gil, Dobong-gu, Seoul, Republic of Korea           25892\n",
            "18, Ttukseom-ro 3-gil, Seongdong-gu, Seoul, Republic of Korea        25891\n",
            "32, Segeomjeong-ro 4-gil, Seodaemun-gu, Seoul, Republic of Korea     25890\n",
            "Name: Address, dtype: int64\n"
          ]
        }
      ]
    },
    {
      "cell_type": "code",
      "metadata": {
        "id": "nYHtLZ4Sb2ec"
      },
      "source": [
        "# Distrik Yangcheon-gu dipilih karena memiliki kepadatan penduduk tertinggi\n",
        "# di antara distrik lainnya (berdasarkan https://en.wikipedia.org/wiki/List_of_districts_of_Seoul)\n",
        "dataset = original_dataset.loc[original_dataset['Address'] == '56, Jungang-ro 52-gil, Yangcheon-gu, Seoul, Republic of Korea']\n",
        "dataset = dataset[['Measurement date', 'CO']]\n",
        "dataset['Measurement date'] = pd.to_datetime(dataset['Measurement date'])\n",
        "dataset.rename(columns={'Measurement date': 'Date'}, inplace=True)"
      ],
      "execution_count": 6,
      "outputs": []
    },
    {
      "cell_type": "code",
      "metadata": {
        "colab": {
          "base_uri": "https://localhost:8080/",
          "height": 528
        },
        "id": "K-y19gKJeqZN",
        "outputId": "0a47fc28-532c-4512-931e-f4ce2ae30251"
      },
      "source": [
        "print(\"Missing values:\\n\", dataset.isnull().sum(), sep='')\n",
        "print(\"\\nDataset length: \", len(dataset))\n",
        "dataset"
      ],
      "execution_count": 7,
      "outputs": [
        {
          "output_type": "stream",
          "name": "stdout",
          "text": [
            "Missing values:\n",
            "Date    0\n",
            "CO      0\n",
            "dtype: int64\n",
            "\n",
            "Dataset length:  25904\n"
          ]
        },
        {
          "output_type": "execute_result",
          "data": {
            "text/plain": [
              "                      Date   CO\n",
              "362594 2017-01-01 00:00:00  1.3\n",
              "362595 2017-01-01 01:00:00  1.3\n",
              "362596 2017-01-01 02:00:00  1.2\n",
              "362597 2017-01-01 03:00:00  1.3\n",
              "362598 2017-01-01 04:00:00  1.1\n",
              "...                    ...  ...\n",
              "388493 2019-12-31 19:00:00  0.5\n",
              "388494 2019-12-31 20:00:00  0.5\n",
              "388495 2019-12-31 21:00:00  0.5\n",
              "388496 2019-12-31 22:00:00  0.5\n",
              "388497 2019-12-31 23:00:00  0.5\n",
              "\n",
              "[25904 rows x 2 columns]"
            ],
            "text/html": [
              "\n",
              "  <div id=\"df-5a17c812-78b2-4085-8a3e-aa8f61b80336\">\n",
              "    <div class=\"colab-df-container\">\n",
              "      <div>\n",
              "<style scoped>\n",
              "    .dataframe tbody tr th:only-of-type {\n",
              "        vertical-align: middle;\n",
              "    }\n",
              "\n",
              "    .dataframe tbody tr th {\n",
              "        vertical-align: top;\n",
              "    }\n",
              "\n",
              "    .dataframe thead th {\n",
              "        text-align: right;\n",
              "    }\n",
              "</style>\n",
              "<table border=\"1\" class=\"dataframe\">\n",
              "  <thead>\n",
              "    <tr style=\"text-align: right;\">\n",
              "      <th></th>\n",
              "      <th>Date</th>\n",
              "      <th>CO</th>\n",
              "    </tr>\n",
              "  </thead>\n",
              "  <tbody>\n",
              "    <tr>\n",
              "      <th>362594</th>\n",
              "      <td>2017-01-01 00:00:00</td>\n",
              "      <td>1.3</td>\n",
              "    </tr>\n",
              "    <tr>\n",
              "      <th>362595</th>\n",
              "      <td>2017-01-01 01:00:00</td>\n",
              "      <td>1.3</td>\n",
              "    </tr>\n",
              "    <tr>\n",
              "      <th>362596</th>\n",
              "      <td>2017-01-01 02:00:00</td>\n",
              "      <td>1.2</td>\n",
              "    </tr>\n",
              "    <tr>\n",
              "      <th>362597</th>\n",
              "      <td>2017-01-01 03:00:00</td>\n",
              "      <td>1.3</td>\n",
              "    </tr>\n",
              "    <tr>\n",
              "      <th>362598</th>\n",
              "      <td>2017-01-01 04:00:00</td>\n",
              "      <td>1.1</td>\n",
              "    </tr>\n",
              "    <tr>\n",
              "      <th>...</th>\n",
              "      <td>...</td>\n",
              "      <td>...</td>\n",
              "    </tr>\n",
              "    <tr>\n",
              "      <th>388493</th>\n",
              "      <td>2019-12-31 19:00:00</td>\n",
              "      <td>0.5</td>\n",
              "    </tr>\n",
              "    <tr>\n",
              "      <th>388494</th>\n",
              "      <td>2019-12-31 20:00:00</td>\n",
              "      <td>0.5</td>\n",
              "    </tr>\n",
              "    <tr>\n",
              "      <th>388495</th>\n",
              "      <td>2019-12-31 21:00:00</td>\n",
              "      <td>0.5</td>\n",
              "    </tr>\n",
              "    <tr>\n",
              "      <th>388496</th>\n",
              "      <td>2019-12-31 22:00:00</td>\n",
              "      <td>0.5</td>\n",
              "    </tr>\n",
              "    <tr>\n",
              "      <th>388497</th>\n",
              "      <td>2019-12-31 23:00:00</td>\n",
              "      <td>0.5</td>\n",
              "    </tr>\n",
              "  </tbody>\n",
              "</table>\n",
              "<p>25904 rows × 2 columns</p>\n",
              "</div>\n",
              "      <button class=\"colab-df-convert\" onclick=\"convertToInteractive('df-5a17c812-78b2-4085-8a3e-aa8f61b80336')\"\n",
              "              title=\"Convert this dataframe to an interactive table.\"\n",
              "              style=\"display:none;\">\n",
              "        \n",
              "  <svg xmlns=\"http://www.w3.org/2000/svg\" height=\"24px\"viewBox=\"0 0 24 24\"\n",
              "       width=\"24px\">\n",
              "    <path d=\"M0 0h24v24H0V0z\" fill=\"none\"/>\n",
              "    <path d=\"M18.56 5.44l.94 2.06.94-2.06 2.06-.94-2.06-.94-.94-2.06-.94 2.06-2.06.94zm-11 1L8.5 8.5l.94-2.06 2.06-.94-2.06-.94L8.5 2.5l-.94 2.06-2.06.94zm10 10l.94 2.06.94-2.06 2.06-.94-2.06-.94-.94-2.06-.94 2.06-2.06.94z\"/><path d=\"M17.41 7.96l-1.37-1.37c-.4-.4-.92-.59-1.43-.59-.52 0-1.04.2-1.43.59L10.3 9.45l-7.72 7.72c-.78.78-.78 2.05 0 2.83L4 21.41c.39.39.9.59 1.41.59.51 0 1.02-.2 1.41-.59l7.78-7.78 2.81-2.81c.8-.78.8-2.07 0-2.86zM5.41 20L4 18.59l7.72-7.72 1.47 1.35L5.41 20z\"/>\n",
              "  </svg>\n",
              "      </button>\n",
              "      \n",
              "  <style>\n",
              "    .colab-df-container {\n",
              "      display:flex;\n",
              "      flex-wrap:wrap;\n",
              "      gap: 12px;\n",
              "    }\n",
              "\n",
              "    .colab-df-convert {\n",
              "      background-color: #E8F0FE;\n",
              "      border: none;\n",
              "      border-radius: 50%;\n",
              "      cursor: pointer;\n",
              "      display: none;\n",
              "      fill: #1967D2;\n",
              "      height: 32px;\n",
              "      padding: 0 0 0 0;\n",
              "      width: 32px;\n",
              "    }\n",
              "\n",
              "    .colab-df-convert:hover {\n",
              "      background-color: #E2EBFA;\n",
              "      box-shadow: 0px 1px 2px rgba(60, 64, 67, 0.3), 0px 1px 3px 1px rgba(60, 64, 67, 0.15);\n",
              "      fill: #174EA6;\n",
              "    }\n",
              "\n",
              "    [theme=dark] .colab-df-convert {\n",
              "      background-color: #3B4455;\n",
              "      fill: #D2E3FC;\n",
              "    }\n",
              "\n",
              "    [theme=dark] .colab-df-convert:hover {\n",
              "      background-color: #434B5C;\n",
              "      box-shadow: 0px 1px 3px 1px rgba(0, 0, 0, 0.15);\n",
              "      filter: drop-shadow(0px 1px 2px rgba(0, 0, 0, 0.3));\n",
              "      fill: #FFFFFF;\n",
              "    }\n",
              "  </style>\n",
              "\n",
              "      <script>\n",
              "        const buttonEl =\n",
              "          document.querySelector('#df-5a17c812-78b2-4085-8a3e-aa8f61b80336 button.colab-df-convert');\n",
              "        buttonEl.style.display =\n",
              "          google.colab.kernel.accessAllowed ? 'block' : 'none';\n",
              "\n",
              "        async function convertToInteractive(key) {\n",
              "          const element = document.querySelector('#df-5a17c812-78b2-4085-8a3e-aa8f61b80336');\n",
              "          const dataTable =\n",
              "            await google.colab.kernel.invokeFunction('convertToInteractive',\n",
              "                                                     [key], {});\n",
              "          if (!dataTable) return;\n",
              "\n",
              "          const docLinkHtml = 'Like what you see? Visit the ' +\n",
              "            '<a target=\"_blank\" href=https://colab.research.google.com/notebooks/data_table.ipynb>data table notebook</a>'\n",
              "            + ' to learn more about interactive tables.';\n",
              "          element.innerHTML = '';\n",
              "          dataTable['output_type'] = 'display_data';\n",
              "          await google.colab.output.renderOutput(dataTable, element);\n",
              "          const docLink = document.createElement('div');\n",
              "          docLink.innerHTML = docLinkHtml;\n",
              "          element.appendChild(docLink);\n",
              "        }\n",
              "      </script>\n",
              "    </div>\n",
              "  </div>\n",
              "  "
            ]
          },
          "metadata": {},
          "execution_count": 7
        }
      ]
    },
    {
      "cell_type": "code",
      "metadata": {
        "colab": {
          "base_uri": "https://localhost:8080/",
          "height": 384
        },
        "id": "oL4vVSWbr-Y1",
        "outputId": "181f4634-0791-4b14-cb93-587b72db3e76"
      },
      "source": [
        "date = dataset['Date'].values\n",
        "co = dataset['CO'].values\n",
        "\n",
        "plt.figure(figsize=(25, 5))\n",
        "plt.plot(date, co)\n",
        "plt.title('CO Level Average (2017-2019)', fontsize=25);\n",
        "plt.xlabel('Date', fontsize=18)\n",
        "plt.ylabel('CO Level', fontsize=18)"
      ],
      "execution_count": 8,
      "outputs": [
        {
          "output_type": "execute_result",
          "data": {
            "text/plain": [
              "Text(0, 0.5, 'CO Level')"
            ]
          },
          "metadata": {},
          "execution_count": 8
        },
        {
          "output_type": "display_data",
          "data": {
            "text/plain": [
              "<Figure size 1800x360 with 1 Axes>"
            ],
            "image/png": "[encoded data removed]"
          },
          "metadata": {
            "needs_background": "light"
          }
        }
      ]
    },
    {
      "cell_type": "code",
      "metadata": {
        "id": "zlxmBPwfI0Hd"
      },
      "source": [
        "# Dataset splitting\n",
        "split = round(0.8*len(date))\n",
        "\n",
        "train_date = date[:split]\n",
        "test_date = date[split:]\n",
        "\n",
        "train_co = co[:split]\n",
        "test_co = co[split:]"
      ],
      "execution_count": 9,
      "outputs": []
    },
    {
      "cell_type": "code",
      "metadata": {
        "colab": {
          "base_uri": "https://localhost:8080/"
        },
        "id": "1kp59EewIIiD",
        "outputId": "16106ff1-9d25-4b6c-b3b2-a1524b1c8632"
      },
      "source": [
        "from sklearn.preprocessing import MinMaxScaler\n",
        "data_scale = max(co)-min(co)\n",
        "print(\"MAE must be below\", 0.1*data_scale)\n",
        "scaler = MinMaxScaler()"
      ],
      "execution_count": 10,
      "outputs": [
        {
          "output_type": "stream",
          "name": "stdout",
          "text": [
            "MAE must be below 0.54\n"
          ]
        }
      ]
    },
    {
      "cell_type": "code",
      "metadata": {
        "id": "MBGHLLPdUA79"
      },
      "source": [
        "window_size = 30\n",
        "batch_size = 32\n",
        "shuffle_buffer_size = 1000"
      ],
      "execution_count": 11,
      "outputs": []
    },
    {
      "cell_type": "code",
      "metadata": {
        "id": "lB5pXImOGNyC"
      },
      "source": [
        "def windowed_dataset(series, window_size, batch_size, shuffle_buffer):\n",
        "    series = tf.expand_dims(series, axis=-1)\n",
        "    ds = tf.data.Dataset.from_tensor_slices(series)\n",
        "    ds = ds.window(window_size + 1, shift=1, drop_remainder=True)\n",
        "    ds = ds.flat_map(lambda w: w.batch(window_size + 1))\n",
        "    ds = ds.shuffle(shuffle_buffer)\n",
        "    ds = ds.map(lambda w: (w[:-1], w[-1:]))\n",
        "    return ds.batch(batch_size).prefetch(1)"
      ],
      "execution_count": 12,
      "outputs": []
    },
    {
      "cell_type": "code",
      "metadata": {
        "id": "wWJduf0DHK4x"
      },
      "source": [
        "train_set = windowed_dataset(train_co, window_size, batch_size, shuffle_buffer_size)\n",
        "test_set = windowed_dataset(test_co, window_size, batch_size, shuffle_buffer_size)\n",
        "\n",
        "model = tf.keras.models.Sequential([\n",
        "  tf.keras.layers.LSTM(32, return_sequences=True),\n",
        "  tf.keras.layers.LSTM(16),\n",
        "  tf.keras.layers.Dense(8, activation='relu'),\n",
        "  tf.keras.layers.Dense(1),\n",
        "])"
      ],
      "execution_count": 13,
      "outputs": []
    },
    {
      "cell_type": "code",
      "metadata": {
        "id": "QLgZqJA2R5wH"
      },
      "source": [
        "class myCallback(tf.keras.callbacks.Callback):\n",
        "    def on_epoch_end(self, epoch, logs={}):\n",
        "        if (logs.get('mae') < 0.1) and (logs.get('val_mae') < 0.1):\n",
        "            print(\"\\nDesired MAE value (0.1) reached.\")\n",
        "            self.model.stop_training = True\n",
        "\n",
        "callbacks = myCallback()"
      ],
      "execution_count": 14,
      "outputs": []
    },
    {
      "cell_type": "code",
      "metadata": {
        "colab": {
          "base_uri": "https://localhost:8080/"
        },
        "id": "1mx8sQoJHSZJ",
        "outputId": "43df9f05-1440-4c5b-88cb-db75c298de90"
      },
      "source": [
        "optimizer = tf.keras.optimizers.SGD(learning_rate=1e-3, momentum=0.8)\n",
        "model.compile(loss=tf.keras.losses.Huber(),\n",
        "              optimizer=optimizer,\n",
        "              metrics=[\"mae\"])\n",
        "history = model.fit(\n",
        "    train_set,\n",
        "    validation_data=test_set,\n",
        "    epochs=100,\n",
        "    shuffle=False,\n",
        "    callbacks=[callbacks]\n",
        ")"
      ],
      "execution_count": 15,
      "outputs": [
        {
          "output_type": "stream",
          "name": "stdout",
          "text": [
            "Epoch 1/100\n",
            "647/647 [==============================] - 16s 12ms/step - loss: 0.0383 - mae: 0.1812 - val_loss: 0.0185 - val_mae: 0.1509\n",
            "Epoch 2/100\n",
            "647/647 [==============================] - 7s 10ms/step - loss: 0.0197 - mae: 0.1374 - val_loss: 0.0154 - val_mae: 0.1337\n",
            "Epoch 3/100\n",
            "647/647 [==============================] - 7s 10ms/step - loss: 0.0174 - mae: 0.1274 - val_loss: 0.0129 - val_mae: 0.1177\n",
            "Epoch 4/100\n",
            "647/647 [==============================] - 7s 10ms/step - loss: 0.0156 - mae: 0.1194 - val_loss: 0.0114 - val_mae: 0.1070\n",
            "Epoch 5/100\n",
            "647/647 [==============================] - 7s 10ms/step - loss: 0.0144 - mae: 0.1127 - val_loss: 0.0102 - val_mae: 0.0961\n",
            "Epoch 6/100\n",
            "647/647 [==============================] - 7s 11ms/step - loss: 0.0138 - mae: 0.1103 - val_loss: 0.0099 - val_mae: 0.0934\n",
            "Epoch 7/100\n",
            "647/647 [==============================] - 7s 10ms/step - loss: 0.0135 - mae: 0.1090 - val_loss: 0.0097 - val_mae: 0.0909\n",
            "Epoch 8/100\n",
            "647/647 [==============================] - 7s 10ms/step - loss: 0.0133 - mae: 0.1081 - val_loss: 0.0097 - val_mae: 0.0918\n",
            "Epoch 9/100\n",
            "647/647 [==============================] - 8s 13ms/step - loss: 0.0131 - mae: 0.1074 - val_loss: 0.0095 - val_mae: 0.0907\n",
            "Epoch 10/100\n",
            "647/647 [==============================] - 7s 11ms/step - loss: 0.0130 - mae: 0.1066 - val_loss: 0.0094 - val_mae: 0.0902\n",
            "Epoch 11/100\n",
            "647/647 [==============================] - 8s 12ms/step - loss: 0.0128 - mae: 0.1061 - val_loss: 0.0093 - val_mae: 0.0881\n",
            "Epoch 12/100\n",
            "647/647 [==============================] - 7s 11ms/step - loss: 0.0127 - mae: 0.1054 - val_loss: 0.0093 - val_mae: 0.0894\n",
            "Epoch 13/100\n",
            "647/647 [==============================] - 7s 10ms/step - loss: 0.0126 - mae: 0.1048 - val_loss: 0.0091 - val_mae: 0.0879\n",
            "Epoch 14/100\n",
            "647/647 [==============================] - 7s 10ms/step - loss: 0.0124 - mae: 0.1042 - val_loss: 0.0091 - val_mae: 0.0884\n",
            "Epoch 15/100\n",
            "647/647 [==============================] - 7s 10ms/step - loss: 0.0123 - mae: 0.1036 - val_loss: 0.0090 - val_mae: 0.0876\n",
            "Epoch 16/100\n",
            "647/647 [==============================] - 7s 10ms/step - loss: 0.0122 - mae: 0.1031 - val_loss: 0.0089 - val_mae: 0.0869\n",
            "Epoch 17/100\n",
            "647/647 [==============================] - 7s 10ms/step - loss: 0.0121 - mae: 0.1025 - val_loss: 0.0088 - val_mae: 0.0870\n",
            "Epoch 18/100\n",
            "647/647 [==============================] - 7s 10ms/step - loss: 0.0119 - mae: 0.1019 - val_loss: 0.0088 - val_mae: 0.0869\n",
            "Epoch 19/100\n",
            "647/647 [==============================] - 7s 10ms/step - loss: 0.0118 - mae: 0.1014 - val_loss: 0.0087 - val_mae: 0.0866\n",
            "Epoch 20/100\n",
            "647/647 [==============================] - 7s 10ms/step - loss: 0.0117 - mae: 0.1010 - val_loss: 0.0086 - val_mae: 0.0860\n",
            "Epoch 21/100\n",
            "647/647 [==============================] - 7s 10ms/step - loss: 0.0116 - mae: 0.1004 - val_loss: 0.0085 - val_mae: 0.0854\n",
            "Epoch 22/100\n",
            "646/647 [============================>.] - ETA: 0s - loss: 0.0115 - mae: 0.0999\n",
            "Desired MAE value (0.1) reached.\n",
            "647/647 [==============================] - 7s 10ms/step - loss: 0.0115 - mae: 0.0999 - val_loss: 0.0085 - val_mae: 0.0850\n"
          ]
        }
      ]
    },
    {
      "cell_type": "code",
      "metadata": {
        "colab": {
          "base_uri": "https://localhost:8080/",
          "height": 545
        },
        "id": "9fIQPA7rSdqT",
        "outputId": "82e20a68-de51-44ec-e111-f5c413e1443a"
      },
      "source": [
        "# Membuat plot loss dan akurasi pada proses latihan dan validasi\n",
        "%matplotlib inline\n",
        "mae = history.history['mae']\n",
        "val_mae = history.history['val_mae']\n",
        "loss = history.history['loss']\n",
        "val_loss = history.history['val_loss']\n",
        "\n",
        "epochs = range(len(mae))\n",
        "\n",
        "plt.plot(epochs, mae, 'r', label='Training MAE')\n",
        "plt.plot(epochs, val_mae, 'b', label='Validation MAE')\n",
        "plt.title('Training and Validation MAE')\n",
        "plt.legend()\n",
        "plt.figure()\n",
        "\n",
        "plt.plot(epochs, loss, 'r', label='Training Loss')\n",
        "plt.plot(epochs, val_loss, 'b', label='Validation Loss')\n",
        "plt.title('Training and Validation Loss')\n",
        "plt.legend()\n",
        "\n",
        "plt.show()"
      ],
      "execution_count": 16,
      "outputs": [
        {
          "output_type": "display_data",
          "data": {
            "text/plain": [
              "<Figure size 432x288 with 1 Axes>"
            ],
            "image/png": "[encoded data removed]"
          },
          "metadata": {
            "needs_background": "light"
          }
        },
        {
          "output_type": "display_data",
          "data": {
            "text/plain": [
              "<Figure size 432x288 with 1 Axes>"
            ],
            "image/png": "[encoded data removed]"
          },
          "metadata": {
            "needs_background": "light"
          }
        }
      ]
    }
  ]
}